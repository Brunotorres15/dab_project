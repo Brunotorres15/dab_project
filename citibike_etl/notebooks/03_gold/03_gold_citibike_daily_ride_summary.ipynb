{
 "cells": [
  {
   "cell_type": "code",
   "execution_count": null,
   "id": "8be21f26",
   "metadata": {},
   "outputs": [],
   "source": [
    "from pyspark.sql.functions import max, min, avg, count, round"
   ]
  },
  {
   "cell_type": "code",
   "execution_count": null,
   "id": "7f93bf9b",
   "metadata": {},
   "outputs": [],
   "source": [
    "catalog = dbutils.widgets.get(\"catalog\")"
   ]
  },
  {
   "cell_type": "code",
   "execution_count": null,
   "id": "c8412f4a",
   "metadata": {},
   "outputs": [],
   "source": [
    "df = spark.read.table(f\"{catalog}.02_silver.jc_citibike\")"
   ]
  },
  {
   "cell_type": "code",
   "execution_count": null,
   "id": "6470d2b1",
   "metadata": {},
   "outputs": [],
   "source": [
    "df = df.groupBy(\"trip_start_date\").agg(\n",
    "    round(max(\"trip_duration_mins\"),2).alias(\"max_trip_duration_mins\"),\n",
    "    round(min(\"trip_duration_mins\"),2).alias(\"min_trip_duration_mins\"),\n",
    "    round(avg(\"trip_duration_mins\"),2).alias(\"avg_trip_duration_mins\"),\n",
    "    count(\"ride_id\").alias(\"total_trips\")\n",
    ")"
   ]
  },
  {
   "cell_type": "code",
   "execution_count": null,
   "id": "d5dd23fe",
   "metadata": {},
   "outputs": [],
   "source": [
    "df.write.\\\n",
    "    mode(\"overwrite\").\\\n",
    "    option(\"overwriteSchema\", \"true\").\\\n",
    "    saveAsTable(f\"{catalog}.03_gold.daily_ride_summary\")"
   ]
  },
  {
   "cell_type": "code",
   "execution_count": null,
   "id": "0a7b1245",
   "metadata": {},
   "outputs": [],
   "source": []
  }
 ],
 "metadata": {
  "language_info": {
   "name": "python"
  }
 },
 "nbformat": 4,
 "nbformat_minor": 5
}
